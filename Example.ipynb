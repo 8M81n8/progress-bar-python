{
 "cells": [
  {
   "cell_type": "code",
   "execution_count": 3,
   "metadata": {},
   "outputs": [
    {
     "name": "stdout",
     "output_type": "stream",
     "text": [
      "The autoreload extension is already loaded. To reload it, use:\n",
      "  %reload_ext autoreload\n"
     ]
    }
   ],
   "source": [
    "from progress import Progress as P\n",
    "import random\n",
    "import time\n",
    "\n",
    "%load_ext autoreload\n",
    "%autoreload 2"
   ]
  },
  {
   "cell_type": "code",
   "execution_count": 4,
   "metadata": {},
   "outputs": [
    {
     "name": "stdout",
     "output_type": "stream",
     "text": [
      "<ipykernel.iostream.OutStream object at 0x000002170F3E0388>\n"
     ]
    },
    {
     "data": {
      "text/plain": [
       "'Epoch: {} {bar} {}/70  {} - Loss: {:.4f} - Acc: {:.2f} '"
      ]
     },
     "execution_count": 4,
     "metadata": {},
     "output_type": "execute_result"
    }
   ],
   "source": [
    "p = P(70,mode = 'bar') # progress bar object\n",
    "\n",
    "# defiling progress bar elements\n",
    "epoch = P.Elememt(\"Epoch\",0) \n",
    "batch = P.Elememt(\"Batch\",0,display_name='hide',max_value = 70, value_display_mode = 1)\n",
    "progress_time = P.ProgressTime(postfix=\"/epoch\")\n",
    "loss = P.Elememt(\"Loss\",0, f=4) # f for floating point precision\n",
    "acc = P.Elememt(\"Acc\", 0, f=2)\n",
    "\n",
    "# progress bar [====>    ]\n",
    "bar = P.Bar()\n",
    "\n",
    "# Formating progress bar\n",
    "p = p(epoch)(bar)(batch)(progress_time)(\"- \")(loss)(\"- \")(acc) # format progress bar\n",
    "\n",
    "# get final progress bar format\n",
    "p.get_format()"
   ]
  },
  {
   "cell_type": "code",
   "execution_count": 5,
   "metadata": {},
   "outputs": [
    {
     "name": "stdout",
     "output_type": "stream",
     "text": [
      "Epoch: 1 [=========================] 70/70  720ms/epoch - Loss: 0.4192 - Acc: 0.72 \n",
      "Epoch: 2 [=========================] 70/70  721ms/epoch - Loss: 0.1278 - Acc: 0.39 \n",
      "Epoch: 3 [=========================] 70/70  717ms/epoch - Loss: 0.3406 - Acc: 1.00 \n",
      "Epoch: 4 [=========================] 70/70  724ms/epoch - Loss: 0.2620 - Acc: 0.59 \n",
      "Epoch: 5 [=========================] 70/70  721ms/epoch - Loss: 0.1803 - Acc: 0.29 \n",
      "Epoch: 6 [=========================] 70/70  724ms/epoch - Loss: 0.2177 - Acc: 0.39 \n",
      "Epoch: 7 [=========================] 70/70  717ms/epoch - Loss: 0.4997 - Acc: 0.19 \n",
      "Epoch: 8 [=========================] 70/70  717ms/epoch - Loss: 0.3665 - Acc: 0.96 \n",
      "Epoch: 9 [=========================] 70/70  722ms/epoch - Loss: 0.3253 - Acc: 0.15 \n",
      "Epoch: 10 [=========================] 70/70  721ms/epoch - Loss: 0.2164 - Acc: 0.33 \n"
     ]
    }
   ],
   "source": [
    "p.initialize() # initializing progress bar \n",
    "for e in range(10):\n",
    "    for i in range(70):\n",
    "        \"\"\"\n",
    "        Other code block\n",
    "        \n",
    "        \n",
    "        ----------------\n",
    "        \"\"\"\n",
    "        # updating progress bar elements values\n",
    "        loss(random.randint(1000,5000)/10000)\n",
    "        acc(random.randint(1,100)/100)\n",
    "        batch(i+1)\n",
    "        epoch(e+1)\n",
    "        \n",
    "        # rendering progress bar \n",
    "        p.update(step = 1)\n",
    "        time.sleep(0.01)\n",
    "    # setting new line for next epoch\n",
    "    p.set_cursor_position()"
   ]
  },
  {
   "cell_type": "code",
   "execution_count": 4,
   "metadata": {},
   "outputs": [
    {
     "name": "stdout",
     "output_type": "stream",
     "text": [
      "●●●●●●●●●●●●●●●●●●●●●●●●●\n",
      "■■■■■■■■■■■■■■■■■■■■■■■■■\n",
      "|█████████████████████████|"
     ]
    }
   ],
   "source": [
    "p1 = P(50,mode='bar')(P.FillBar(mode=0))\n",
    "p2 = P(50,mode='bar')(P.FillBar(mode=1))\n",
    "p3 = P(50,mode='bar')(P.FillBar(mode=2))\n",
    "\n",
    "p1.initialize()\n",
    "for i in range(50):\n",
    "    \n",
    "    time.sleep(0.05)\n",
    "    p1.update(1)\n",
    "p1.set_cursor_position()    \n",
    "\n",
    "p2.initialize()\n",
    "for i in range(50):\n",
    "    \n",
    "    time.sleep(0.05)\n",
    "    p2.update(1)\n",
    "p2.set_cursor_position() \n",
    "    \n",
    "p3.initialize()\n",
    "for i in range(50):\n",
    "    \n",
    "    time.sleep(0.05)\n",
    "    p3.update(1)"
   ]
  }
 ],
 "metadata": {
  "kernelspec": {
   "display_name": "Python 3",
   "language": "python",
   "name": "python3"
  },
  "language_info": {
   "codemirror_mode": {
    "name": "ipython",
    "version": 3
   },
   "file_extension": ".py",
   "mimetype": "text/x-python",
   "name": "python",
   "nbconvert_exporter": "python",
   "pygments_lexer": "ipython3",
   "version": "3.7.6"
  }
 },
 "nbformat": 4,
 "nbformat_minor": 2
}
