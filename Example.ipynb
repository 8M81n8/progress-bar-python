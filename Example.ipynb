{
 "cells": [
  {
   "cell_type": "code",
   "execution_count": 1,
   "metadata": {},
   "outputs": [],
   "source": [
    "from progress import Progress as P\n",
    "import random\n",
    "import time"
   ]
  },
  {
   "cell_type": "code",
   "execution_count": 2,
   "metadata": {},
   "outputs": [
    {
     "data": {
      "text/plain": [
       "'Epoch: {} {bar} {}/70  {} - Loss: {} - Acc: {} '"
      ]
     },
     "execution_count": 2,
     "metadata": {},
     "output_type": "execute_result"
    }
   ],
   "source": [
    "p = P(70,mode = 'bar') # progress bar object\n",
    "\n",
    "# defiling progress bar elements\n",
    "epoch = P.Elememt(\"Epoch\",0) \n",
    "batch = P.Elememt(\"Batch\",0,display_name='hide',max_value = 70, value_display_mode = 1)\n",
    "progress_time = P.ProgressTime(postfix=\"/epoch\")\n",
    "loss = P.Elememt(\"Loss\",0)\n",
    "acc = P.Elememt(\"Acc\",0)\n",
    "\n",
    "# progress bar [====>    ]\n",
    "bar = P.Bar()\n",
    "\n",
    "# Formating progress bar\n",
    "p = p(epoch)(bar)(batch)(progress_time)(\"- \")(loss)(\"- \")(acc) # foramt progress bar\n",
    "\n",
    "# get final progress bar format\n",
    "p.get_format()"
   ]
  },
  {
   "cell_type": "code",
   "execution_count": 6,
   "metadata": {},
   "outputs": [
    {
     "name": "stdout",
     "output_type": "stream",
     "text": [
      "Epoch: 1 [====================] 70/70  7s/epoch - Loss: 0.4307 - Acc: 0.86 \n",
      "Epoch: 2 [====================] 70/70  7s/epoch - Loss: 0.2607 - Acc: 0.34 \n",
      "Epoch: 3 [====================] 70/70  7s/epoch - Loss: 0.4926 - Acc: 0.66 \n",
      "Epoch: 4 [====================] 70/70  7s/epoch - Loss: 0.3648 - Acc: 0.65 \n",
      "Epoch: 5 [====================] 70/70  7s/epoch - Loss: 0.4722 - Acc: 0.09 \n",
      "Epoch: 6 [====================] 70/70  7s/epoch - Loss: 0.4214 - Acc: 0.58 \n",
      "Epoch: 7 [====================] 70/70  7s/epoch - Loss: 0.1444 - Acc: 0.08 \n",
      "Epoch: 8 [====================] 70/70  7s/epoch - Loss: 0.4732 - Acc: 0.05 \n",
      "Epoch: 9 [====================] 70/70  7s/epoch - Loss: 0.3543 - Acc: 0.26 \n",
      "Epoch: 10 [====================] 70/70  7s/epoch - Loss: 0.3978 - Acc: 0.16 \n"
     ]
    }
   ],
   "source": [
    "p.initialize() # initializing progress bar \n",
    "for e in range(10):\n",
    "    for i in range(70):\n",
    "        \"\"\"\n",
    "        Other code block\n",
    "        \n",
    "        \n",
    "        ----------------\n",
    "        \"\"\"\n",
    "        # updating progress bar elements values\n",
    "        loss(random.randint(1000,5000)/10000)\n",
    "        acc(random.randint(1,100)/100)\n",
    "        batch(i+1)\n",
    "        epoch(e+1)\n",
    "        \n",
    "        # rendering progress bar \n",
    "        p.update(step = 1)\n",
    "        time.sleep(0.1)\n",
    "    # setting new line for next epoch\n",
    "    p.set_cursor_position()"
   ]
  }
 ],
 "metadata": {
  "kernelspec": {
   "display_name": "Python 3",
   "language": "python",
   "name": "python3"
  },
  "language_info": {
   "codemirror_mode": {
    "name": "ipython",
    "version": 3
   },
   "file_extension": ".py",
   "mimetype": "text/x-python",
   "name": "python",
   "nbconvert_exporter": "python",
   "pygments_lexer": "ipython3",
   "version": "3.6.4"
  }
 },
 "nbformat": 4,
 "nbformat_minor": 2
}
