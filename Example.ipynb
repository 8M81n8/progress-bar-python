{
 "cells": [
  {
   "cell_type": "code",
   "execution_count": 1,
   "metadata": {},
   "outputs": [],
   "source": [
    "from progress import Progress as P\n",
    "import random\n",
    "import time"
   ]
  },
  {
   "cell_type": "code",
   "execution_count": 2,
   "metadata": {},
   "outputs": [
    {
     "data": {
      "text/plain": [
       "'Epoch: {} {bar} {}/70  {} - Loss: {} - Acc: {} '"
      ]
     },
     "execution_count": 2,
     "metadata": {},
     "output_type": "execute_result"
    }
   ],
   "source": [
    "p = P(70,mode = 'bar') # progress bar object\n",
    "\n",
    "# defiling progress bar elements\n",
    "epoch = P.Elememt(\"Epoch\",0) \n",
    "batch = P.Elememt(\"Batch\",0,display_name='hide',max_value = 70, value_display_mode = 1)\n",
    "progress_time = P.ProgressTime(postfix=\"/epoch\")\n",
    "loss = P.Elememt(\"Loss\",0)\n",
    "acc = P.Elememt(\"Acc\",0)\n",
    "\n",
    "# progress bar [====>    ]\n",
    "bar = P.Bar()\n",
    "\n",
    "# Formating progress bar\n",
    "p = p(epoch)(bar)(batch)(progress_time)(\"- \")(loss)(\"- \")(acc) # foramt progress bar\n",
    "\n",
    "# get final progress bar format\n",
    "p.get_format()"
   ]
  },
  {
   "cell_type": "code",
   "execution_count": 3,
   "metadata": {},
   "outputs": [
    {
     "name": "stdout",
     "output_type": "stream",
     "text": [
      "Epoch: 1 [====================] 70/70  7s/epoch - Loss: 0.4173 - Acc: 0.14 \n",
      "Epoch: 2 [====================] 70/70  7s/epoch - Loss: 0.1769 - Acc: 0.31 \n",
      "Epoch: 3 [====================] 70/70  7s/epoch - Loss: 0.4599 - Acc: 0.87 \n",
      "Epoch: 4 [====================] 70/70  7s/epoch - Loss: 0.462 - Acc: 0.38 \n",
      "Epoch: 5 [====================] 70/70  7s/epoch - Loss: 0.3798 - Acc: 0.97 \n",
      "Epoch: 6 [====================] 70/70  7s/epoch - Loss: 0.1498 - Acc: 0.02 \n",
      "Epoch: 7 [====================] 70/70  7s/epoch - Loss: 0.4433 - Acc: 0.56 \n",
      "Epoch: 8 [====================] 70/70  7s/epoch - Loss: 0.4775 - Acc: 0.21 \n",
      "Epoch: 9 [====================] 70/70  7s/epoch - Loss: 0.4274 - Acc: 0.79 \n",
      "Epoch: 10 [====================] 70/70  7s/epoch - Loss: 0.1507 - Acc: 0.9 \n"
     ]
    }
   ],
   "source": [
    "p.initialize() # initializing progress bar \n",
    "for e in range(10):\n",
    "    for i in range(70):\n",
    "        \"\"\"\n",
    "        Other code block\n",
    "        \n",
    "        \n",
    "        ----------------\n",
    "        \"\"\"\n",
    "        # updating progress bar elements values\n",
    "        loss(random.randint(1000,5000)/10000)\n",
    "        acc(random.randint(1,100)/100)\n",
    "        batch(i+1)\n",
    "        epoch(e+1)\n",
    "        \n",
    "        # rendering progress bar \n",
    "        p.update(step = 1)\n",
    "        time.sleep(0.1)\n",
    "    # setting new line for next epoch\n",
    "    p.set_cursor_position()"
   ]
  }
 ],
 "metadata": {
  "kernelspec": {
   "display_name": "Python 3",
   "language": "python",
   "name": "python3"
  },
  "language_info": {
   "codemirror_mode": {
    "name": "ipython",
    "version": 3
   },
   "file_extension": ".py",
   "mimetype": "text/x-python",
   "name": "python",
   "nbconvert_exporter": "python",
   "pygments_lexer": "ipython3",
   "version": "3.6.4"
  }
 },
 "nbformat": 4,
 "nbformat_minor": 2
}
